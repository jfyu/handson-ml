{
 "cells": [
  {
   "cell_type": "markdown",
   "metadata": {},
   "source": [
    "# Normal Equation"
   ]
  },
  {
   "cell_type": "code",
   "execution_count": 1,
   "metadata": {},
   "outputs": [],
   "source": [
    "import numpy as np"
   ]
  },
  {
   "cell_type": "code",
   "execution_count": 2,
   "metadata": {},
   "outputs": [],
   "source": [
    "X = 2*np.random.rand(100,1)"
   ]
  },
  {
   "cell_type": "code",
   "execution_count": 3,
   "metadata": {},
   "outputs": [],
   "source": [
    "y = 4+3*X+np.random.randn(100,1)"
   ]
  },
  {
   "cell_type": "code",
   "execution_count": 4,
   "metadata": {},
   "outputs": [
    {
     "name": "stderr",
     "output_type": "stream",
     "text": [
      "/home/jfyu/anaconda2/envs/mlbook/lib/python3.6/site-packages/matplotlib/font_manager.py:281: UserWarning: Matplotlib is building the font cache using fc-list. This may take a moment.\n",
      "  'Matplotlib is building the font cache using fc-list. '\n"
     ]
    }
   ],
   "source": [
    "%matplotlib inline\n",
    "import matplotlib.pylab as plt\n",
    "plt.style.use('ggplot')"
   ]
  },
  {
   "cell_type": "code",
   "execution_count": 5,
   "metadata": {},
   "outputs": [
    {
     "data": {
      "text/plain": [
       "[<matplotlib.lines.Line2D at 0x7fd04c111710>]"
      ]
     },
     "execution_count": 5,
     "metadata": {},
     "output_type": "execute_result"
    },
    {
     "data": {
      "image/png": "[encoded data removed]",
      "text/plain": [
       "<matplotlib.figure.Figure at 0x7fd04c245dd8>"
      ]
     },
     "metadata": {},
     "output_type": "display_data"
    }
   ],
   "source": [
    "plt.plot(X,y,'.')"
   ]
  },
  {
   "cell_type": "code",
   "execution_count": 6,
   "metadata": {},
   "outputs": [],
   "source": [
    "X_b = np.c_[np.ones((100,1)),X]"
   ]
  },
  {
   "cell_type": "code",
   "execution_count": 7,
   "metadata": {},
   "outputs": [],
   "source": [
    "from sklearn.linear_model import LinearRegression"
   ]
  },
  {
   "cell_type": "code",
   "execution_count": 8,
   "metadata": {},
   "outputs": [],
   "source": [
    "lin_reg = LinearRegression()"
   ]
  },
  {
   "cell_type": "code",
   "execution_count": 9,
   "metadata": {},
   "outputs": [
    {
     "data": {
      "text/plain": [
       "LinearRegression(copy_X=True, fit_intercept=True, n_jobs=1, normalize=False)"
      ]
     },
     "execution_count": 9,
     "metadata": {},
     "output_type": "execute_result"
    }
   ],
   "source": [
    "lin_reg.fit(X,y)"
   ]
  },
  {
   "cell_type": "code",
   "execution_count": 10,
   "metadata": {},
   "outputs": [
    {
     "data": {
      "text/plain": [
       "(array([ 4.00140958]), array([[ 2.88823046]]))"
      ]
     },
     "execution_count": 10,
     "metadata": {},
     "output_type": "execute_result"
    }
   ],
   "source": [
    "lin_reg.intercept_, lin_reg.coef_"
   ]
  },
  {
   "cell_type": "markdown",
   "metadata": {},
   "source": [
    "# Gradient Descent"
   ]
  },
  {
   "cell_type": "markdown",
   "metadata": {},
   "source": [
    "## Batch Gradient Descent"
   ]
  },
  {
   "cell_type": "code",
   "execution_count": 11,
   "metadata": {},
   "outputs": [],
   "source": [
    "eta = 0.1 # learning rate\n",
    "n_iterations = 1000\n",
    "m = 100"
   ]
  },
  {
   "cell_type": "code",
   "execution_count": 12,
   "metadata": {},
   "outputs": [],
   "source": [
    "theta = np.random.randn(2,1) # random initialization"
   ]
  },
  {
   "cell_type": "code",
   "execution_count": 13,
   "metadata": {},
   "outputs": [],
   "source": [
    "for iteration in range(n_iterations):\n",
    "    gradients = 2/m * X_b.T.dot(X_b.dot(theta) - y)\n",
    "    theta = theta - eta * gradients"
   ]
  },
  {
   "cell_type": "code",
   "execution_count": 14,
   "metadata": {},
   "outputs": [
    {
     "data": {
      "text/plain": [
       "array([[ 4.00140958],\n",
       "       [ 2.88823046]])"
      ]
     },
     "execution_count": 14,
     "metadata": {},
     "output_type": "execute_result"
    }
   ],
   "source": [
    "theta"
   ]
  },
  {
   "cell_type": "markdown",
   "metadata": {},
   "source": [
    "## Stochastic Gradient Descent"
   ]
  },
  {
   "cell_type": "code",
   "execution_count": 15,
   "metadata": {},
   "outputs": [],
   "source": [
    "n_epochs = 50\n",
    "t0, t1 = 5, 50 # learning schedule hyperparameters"
   ]
  },
  {
   "cell_type": "code",
   "execution_count": 16,
   "metadata": {},
   "outputs": [],
   "source": [
    "def learning_schedule(t):\n",
    "    return t0/(t+t1)"
   ]
  },
  {
   "cell_type": "code",
   "execution_count": 17,
   "metadata": {},
   "outputs": [],
   "source": [
    "theta = np.random.randn(2,1) # random initialization"
   ]
  },
  {
   "cell_type": "code",
   "execution_count": 18,
   "metadata": {},
   "outputs": [],
   "source": [
    "for epoch in range(n_epochs):\n",
    "    for i in range(m):\n",
    "        random_index = np.random.randint(m)\n",
    "        xi = X_b[random_index:random_index+1]\n",
    "        yi = y[random_index:random_index+1]\n",
    "        gradients = 2 * xi.T.dot(xi.dot(theta) - yi)\n",
    "        eta = learning_schedule(epoch * m + i)\n",
    "        theta = theta - eta * gradients"
   ]
  },
  {
   "cell_type": "code",
   "execution_count": 19,
   "metadata": {},
   "outputs": [
    {
     "data": {
      "text/plain": [
       "array([[ 4.05875024],\n",
       "       [ 2.87724937]])"
      ]
     },
     "execution_count": 19,
     "metadata": {},
     "output_type": "execute_result"
    }
   ],
   "source": [
    "theta"
   ]
  },
  {
   "cell_type": "code",
   "execution_count": 20,
   "metadata": {},
   "outputs": [
    {
     "name": "stderr",
     "output_type": "stream",
     "text": [
      "/home/jfyu/anaconda2/envs/mlbook/lib/python3.6/site-packages/sklearn/linear_model/stochastic_gradient.py:117: DeprecationWarning: n_iter parameter is deprecated in 0.19 and will be removed in 0.21. Use max_iter and tol instead.\n",
      "  DeprecationWarning)\n"
     ]
    },
    {
     "data": {
      "text/plain": [
       "SGDRegressor(alpha=0.0001, average=False, epsilon=0.1, eta0=0.1,\n",
       "       fit_intercept=True, l1_ratio=0.15, learning_rate='invscaling',\n",
       "       loss='squared_loss', max_iter=None, n_iter=50, penalty=None,\n",
       "       power_t=0.25, random_state=None, shuffle=True, tol=None, verbose=0,\n",
       "       warm_start=False)"
      ]
     },
     "execution_count": 20,
     "metadata": {},
     "output_type": "execute_result"
    }
   ],
   "source": [
    "from sklearn.linear_model import SGDRegressor\n",
    "sgd_reg = SGDRegressor(n_iter = 50, penalty=None, eta0=0.1)\n",
    "sgd_reg.fit(X, y.ravel())"
   ]
  },
  {
   "cell_type": "code",
   "execution_count": 21,
   "metadata": {},
   "outputs": [
    {
     "data": {
      "text/plain": [
       "(array([ 4.01294304]), array([ 2.90670414]))"
      ]
     },
     "execution_count": 21,
     "metadata": {},
     "output_type": "execute_result"
    }
   ],
   "source": [
    "sgd_reg.intercept_, sgd_reg.coef_"
   ]
  },
  {
   "cell_type": "markdown",
   "metadata": {},
   "source": [
    "## Mini-Batch Gradient Descent"
   ]
  },
  {
   "cell_type": "markdown",
   "metadata": {},
   "source": [
    "# Polynomial Regression"
   ]
  },
  {
   "cell_type": "code",
   "execution_count": 22,
   "metadata": {},
   "outputs": [],
   "source": [
    "#quadratic\n",
    "m = 100\n",
    "X = 6 * np.random.rand(m,1) - 3\n",
    "y = 0.5 * X**2 + X + 2 + np.random.randn(m,1)"
   ]
  },
  {
   "cell_type": "code",
   "execution_count": 23,
   "metadata": {},
   "outputs": [
    {
     "data": {
      "text/plain": [
       "[<matplotlib.lines.Line2D at 0x7fd070a1a7b8>]"
      ]
     },
     "execution_count": 23,
     "metadata": {},
     "output_type": "execute_result"
    },
    {
     "data": {
      "image/png": "[encoded data removed]",
      "text/plain": [
       "<matplotlib.figure.Figure at 0x7fd02ba59978>"
      ]
     },
     "metadata": {},
     "output_type": "display_data"
    }
   ],
   "source": [
    "plt.plot(X,y,'.')"
   ]
  },
  {
   "cell_type": "code",
   "execution_count": 24,
   "metadata": {},
   "outputs": [],
   "source": [
    "from sklearn.preprocessing import PolynomialFeatures\n",
    "poly_features = PolynomialFeatures(degree=2, include_bias = False)"
   ]
  },
  {
   "cell_type": "code",
   "execution_count": 25,
   "metadata": {},
   "outputs": [],
   "source": [
    "X_poly = poly_features.fit_transform(X)"
   ]
  },
  {
   "cell_type": "code",
   "execution_count": 26,
   "metadata": {},
   "outputs": [
    {
     "data": {
      "text/plain": [
       "array([-1.99846438])"
      ]
     },
     "execution_count": 26,
     "metadata": {},
     "output_type": "execute_result"
    }
   ],
   "source": [
    "X[0]"
   ]
  },
  {
   "cell_type": "code",
   "execution_count": 27,
   "metadata": {},
   "outputs": [
    {
     "data": {
      "text/plain": [
       "array([-1.99846438,  3.99385988])"
      ]
     },
     "execution_count": 27,
     "metadata": {},
     "output_type": "execute_result"
    }
   ],
   "source": [
    "X_poly[0]"
   ]
  },
  {
   "cell_type": "code",
   "execution_count": 28,
   "metadata": {},
   "outputs": [
    {
     "data": {
      "text/plain": [
       "(array([ 1.9851534]), array([[ 0.90937767,  0.48305328]]))"
      ]
     },
     "execution_count": 28,
     "metadata": {},
     "output_type": "execute_result"
    }
   ],
   "source": [
    "#X_poly now contains the original feature of X plus the square of this feature\n",
    "lin_reg = LinearRegression()\n",
    "lin_reg.fit(X_poly, y)\n",
    "lin_reg.intercept_, lin_reg.coef_"
   ]
  },
  {
   "cell_type": "markdown",
   "metadata": {},
   "source": [
    "this estimates y = 0.52x^2+0.998x+1.93"
   ]
  },
  {
   "cell_type": "markdown",
   "metadata": {},
   "source": [
    "# Learning Curves"
   ]
  },
  {
   "cell_type": "code",
   "execution_count": 29,
   "metadata": {},
   "outputs": [],
   "source": [
    "from sklearn.metrics import mean_squared_error\n",
    "from sklearn.model_selection import train_test_split"
   ]
  },
  {
   "cell_type": "code",
   "execution_count": 30,
   "metadata": {},
   "outputs": [],
   "source": [
    "def plot_learning_curves(model, X, y):\n",
    "    X_train, X_val, y_train, y_val = train_test_split(X, y, test_size = 0.2)\n",
    "    train_errors, val_errors = [], []\n",
    "    for m in range(1, len(X_train)):\n",
    "        model.fit(X_train[:m], y_train[:m])\n",
    "        y_train_predict = model.predict(X_train[:m])\n",
    "        y_val_predict = model.predict(X_val)\n",
    "        train_errors.append(mean_squared_error(y_train_predict, y_train[:m]))\n",
    "        val_errors.append(mean_squared_error(y_val_predict, y_val))\n",
    "    plt.plot(np.sqrt(train_errors),'r-+', linewidth=2, label=\"train\")\n",
    "    plt.plot(np.sqrt(val_errors),'b-',linewidth=3, label='val')"
   ]
  },
  {
   "cell_type": "code",
   "execution_count": 31,
   "metadata": {},
   "outputs": [],
   "source": [
    "lin_reg = LinearRegression()"
   ]
  },
  {
   "cell_type": "code",
   "execution_count": 32,
   "metadata": {},
   "outputs": [
    {
     "data": {
      "text/plain": [
       "<matplotlib.legend.Legend at 0x7fd02b9ae898>"
      ]
     },
     "execution_count": 32,
     "metadata": {},
     "output_type": "execute_result"
    },
    {
     "data": {
      "image/png": "[encoded data removed]",
      "text/plain": [
       "<matplotlib.figure.Figure at 0x7fd02b9f5240>"
      ]
     },
     "metadata": {},
     "output_type": "display_data"
    }
   ],
   "source": [
    "plot_learning_curves(lin_reg, X, y)\n",
    "plt.legend()"
   ]
  },
  {
   "cell_type": "markdown",
   "metadata": {},
   "source": [
    "This is underfitting: both curves have reached a plateau, and they are close and fairly high"
   ]
  },
  {
   "cell_type": "code",
   "execution_count": 33,
   "metadata": {},
   "outputs": [],
   "source": [
    "from sklearn.pipeline import Pipeline\n",
    "polynomial_regression = Pipeline([\n",
    "        (\"poly_features\", PolynomialFeatures(degree=10, include_bias=False)),\n",
    "        (\"lin_reg\", LinearRegression()),\n",
    "    ])"
   ]
  },
  {
   "cell_type": "code",
   "execution_count": 34,
   "metadata": {},
   "outputs": [
    {
     "data": {
      "text/plain": [
       "(0, 3)"
      ]
     },
     "execution_count": 34,
     "metadata": {},
     "output_type": "execute_result"
    },
    {
     "data": {
      "image/png": "[encoded data removed]",
      "text/plain": [
       "<matplotlib.figure.Figure at 0x7fd02b94d320>"
      ]
     },
     "metadata": {},
     "output_type": "display_data"
    }
   ],
   "source": [
    "plot_learning_curves(polynomial_regression, X, y)\n",
    "plt.legend()\n",
    "plt.ylim([0,3])"
   ]
  },
  {
   "cell_type": "markdown",
   "metadata": {
    "collapsed": true
   },
   "source": [
    "# Regularized Linear Models"
   ]
  },
  {
   "cell_type": "markdown",
   "metadata": {},
   "source": [
    "## Ridge Regression"
   ]
  },
  {
   "cell_type": "code",
   "execution_count": 35,
   "metadata": {},
   "outputs": [],
   "source": [
    "np.random.seed(42)\n",
    "m = 20\n",
    "X = 3 * np.random.rand(m, 1)\n",
    "y = 1 + 0.5 * X + np.random.randn(m, 1) / 1.5\n",
    "X_new = np.linspace(0, 3, 100).reshape(100, 1)"
   ]
  },
  {
   "cell_type": "code",
   "execution_count": 36,
   "metadata": {},
   "outputs": [],
   "source": [
    "from sklearn.linear_model import Ridge"
   ]
  },
  {
   "cell_type": "code",
   "execution_count": 37,
   "metadata": {},
   "outputs": [
    {
     "data": {
      "text/plain": [
       "array([[ 1.55071465]])"
      ]
     },
     "execution_count": 37,
     "metadata": {},
     "output_type": "execute_result"
    }
   ],
   "source": [
    "ridge_reg = Ridge(alpha=1, solver = \"cholesky\", random_state=42)\n",
    "ridge_reg.fit(X, y)\n",
    "ridge_reg.predict([[1.5]])"
   ]
  },
  {
   "cell_type": "code",
   "execution_count": 38,
   "metadata": {},
   "outputs": [
    {
     "name": "stderr",
     "output_type": "stream",
     "text": [
      "/home/jfyu/anaconda2/envs/mlbook/lib/python3.6/site-packages/sklearn/linear_model/stochastic_gradient.py:128: FutureWarning: max_iter and tol parameters have been added in <class 'sklearn.linear_model.stochastic_gradient.SGDRegressor'> in 0.19. If both are left unset, they default to max_iter=5 and tol=None. If tol is not None, max_iter defaults to max_iter=1000. From 0.21, default max_iter will be 1000, and default tol will be 1e-3.\n",
      "  \"and default tol will be 1e-3.\" % type(self), FutureWarning)\n"
     ]
    },
    {
     "data": {
      "text/plain": [
       "array([ 1.13500145])"
      ]
     },
     "execution_count": 38,
     "metadata": {},
     "output_type": "execute_result"
    }
   ],
   "source": [
    "sgd_reg = SGDRegressor(penalty=\"l2\", random_state=42)#it's l 2, not 12(number)\n",
    "sgd_reg.fit(X,y.ravel())\n",
    "sgd_reg.predict([[1.5]])"
   ]
  },
  {
   "cell_type": "code",
   "execution_count": 39,
   "metadata": {},
   "outputs": [
    {
     "data": {
      "text/plain": [
       "array([[ 1.5507201]])"
      ]
     },
     "execution_count": 39,
     "metadata": {},
     "output_type": "execute_result"
    }
   ],
   "source": [
    "ridge_reg = Ridge(alpha=1, solver=\"sag\", random_state=42)\n",
    "ridge_reg.fit(X,y)\n",
    "ridge_reg.predict([[1.5]])"
   ]
  },
  {
   "cell_type": "markdown",
   "metadata": {},
   "source": [
    "## Lasso"
   ]
  },
  {
   "cell_type": "code",
   "execution_count": 40,
   "metadata": {},
   "outputs": [
    {
     "data": {
      "text/plain": [
       "array([ 1.53788174])"
      ]
     },
     "execution_count": 40,
     "metadata": {},
     "output_type": "execute_result"
    }
   ],
   "source": [
    "from sklearn.linear_model import Lasso\n",
    "lasso_reg = Lasso(alpha=0.1)\n",
    "lasso_reg.fit(X,y)\n",
    "lasso_reg.predict([[1.5]])"
   ]
  },
  {
   "cell_type": "markdown",
   "metadata": {
    "collapsed": true
   },
   "source": [
    "## Elastic Net"
   ]
  },
  {
   "cell_type": "code",
   "execution_count": 41,
   "metadata": {},
   "outputs": [
    {
     "data": {
      "text/plain": [
       "ElasticNet(alpha=0.1, copy_X=True, fit_intercept=True, l1_ratio=0.5,\n",
       "      max_iter=1000, normalize=False, positive=False, precompute=False,\n",
       "      random_state=None, selection='cyclic', tol=0.0001, warm_start=False)"
      ]
     },
     "execution_count": 41,
     "metadata": {},
     "output_type": "execute_result"
    }
   ],
   "source": [
    "#this is a mixture of Lasso(L1 penalty) and Ridge (L2 penalty), mix ratio is r, which is the l1_ratio\n",
    "#Preferred if there are a lot of features\n",
    "\n",
    "from sklearn.linear_model import ElasticNet\n",
    "elastic_net = ElasticNet(alpha=0.1,l1_ratio=0.5)\n",
    "elastic_net.fit(X,y)"
   ]
  },
  {
   "cell_type": "code",
   "execution_count": 45,
   "metadata": {},
   "outputs": [
    {
     "data": {
      "text/plain": [
       "array([ 1.54333232])"
      ]
     },
     "execution_count": 45,
     "metadata": {},
     "output_type": "execute_result"
    }
   ],
   "source": [
    "elastic_net.predict(np.array([1.5]).reshape(-1,1))"
   ]
  },
  {
   "cell_type": "markdown",
   "metadata": {},
   "source": [
    "## Early Stopping"
   ]
  },
  {
   "cell_type": "code",
   "execution_count": 46,
   "metadata": {},
   "outputs": [],
   "source": [
    "from sklearn.base import clone\n",
    "sgd_reg = SGDRegressor(n_iter=1, warm_start=True, penalty=None, learning_rate = 'constant', eta0=0.0005)"
   ]
  },
  {
   "cell_type": "code",
   "execution_count": 48,
   "metadata": {},
   "outputs": [],
   "source": [
    "np.random.seed(42)\n",
    "m = 100\n",
    "X = 6 * np.random.rand(m, 1) - 3\n",
    "y = 2 + X + 0.5 * X**2 + np.random.randn(m, 1)\n",
    "\n",
    "X_train, X_val, y_train, y_val = train_test_split(X[:50], y[:50].ravel(), test_size=0.5, random_state=10)\n",
    "\n",
    "from sklearn.preprocessing import StandardScaler\n",
    "poly_scaler = Pipeline([\n",
    "        (\"poly_features\", PolynomialFeatures(degree=90, include_bias=False)),\n",
    "        (\"std_scaler\", StandardScaler()),\n",
    "    ])\n",
    "\n",
    "X_train_poly_scaled = poly_scaler.fit_transform(X_train)\n",
    "X_val_poly_scaled = poly_scaler.transform(X_val)"
   ]
  },
  {
   "cell_type": "code",
   "execution_count": 57,
   "metadata": {},
   "outputs": [],
   "source": [
    "sgd_reg = SGDRegressor(max_iter=1, warm_start=True, penalty=None,\n",
    "                       learning_rate=\"constant\", eta0=0.0005, random_state=42)\n",
    "\n",
    "minimum_val_error = float(\"inf\")\n",
    "best_epoch = None\n",
    "best_model = None\n",
    "for epoch in range(1000):\n",
    "    sgd_reg.fit(X_train_poly_scaled, y_train)  # continues where it left off\n",
    "    y_val_predict = sgd_reg.predict(X_val_poly_scaled)\n",
    "    val_error = mean_squared_error(y_val_predict, y_val)\n",
    "    if val_error < minimum_val_error:\n",
    "        minimum_val_error = val_error\n",
    "        best_epoch = epoch\n",
    "        best_model = clone(sgd_reg)"
   ]
  },
  {
   "cell_type": "code",
   "execution_count": 58,
   "metadata": {},
   "outputs": [
    {
     "data": {
      "text/plain": [
       "(SGDRegressor(alpha=0.0001, average=False, epsilon=0.1, eta0=0.0005,\n",
       "        fit_intercept=True, l1_ratio=0.15, learning_rate='constant',\n",
       "        loss='squared_loss', max_iter=1, n_iter=None, penalty=None,\n",
       "        power_t=0.25, random_state=42, shuffle=True, tol=None, verbose=0,\n",
       "        warm_start=True), 239)"
      ]
     },
     "execution_count": 58,
     "metadata": {},
     "output_type": "execute_result"
    }
   ],
   "source": [
    "best_model, best_epoch"
   ]
  },
  {
   "cell_type": "code",
   "execution_count": 72,
   "metadata": {},
   "outputs": [],
   "source": [
    "best_model_adjust = best_model.set_params(max_iter=239,warm_start=False)"
   ]
  },
  {
   "cell_type": "code",
   "execution_count": 73,
   "metadata": {},
   "outputs": [
    {
     "data": {
      "text/plain": [
       "SGDRegressor(alpha=0.0001, average=False, epsilon=0.1, eta0=0.0005,\n",
       "       fit_intercept=True, l1_ratio=0.15, learning_rate='constant',\n",
       "       loss='squared_loss', max_iter=239, n_iter=None, penalty=None,\n",
       "       power_t=0.25, random_state=42, shuffle=True, tol=None, verbose=0,\n",
       "       warm_start=False)"
      ]
     },
     "execution_count": 73,
     "metadata": {},
     "output_type": "execute_result"
    }
   ],
   "source": [
    "best_model_adjust"
   ]
  },
  {
   "cell_type": "code",
   "execution_count": 74,
   "metadata": {},
   "outputs": [
    {
     "data": {
      "text/plain": [
       "SGDRegressor(alpha=0.0001, average=False, epsilon=0.1, eta0=0.0005,\n",
       "       fit_intercept=True, l1_ratio=0.15, learning_rate='constant',\n",
       "       loss='squared_loss', max_iter=239, n_iter=None, penalty=None,\n",
       "       power_t=0.25, random_state=42, shuffle=True, tol=None, verbose=0,\n",
       "       warm_start=False)"
      ]
     },
     "execution_count": 74,
     "metadata": {},
     "output_type": "execute_result"
    }
   ],
   "source": [
    "best_model_adjust.fit(X_train_poly_scaled, y_train)"
   ]
  },
  {
   "cell_type": "code",
   "execution_count": 75,
   "metadata": {},
   "outputs": [
    {
     "data": {
      "text/plain": [
       "array([ 2.83698408,  1.60301183,  1.76727712,  3.09558846,  1.80332497,\n",
       "        2.17278339,  2.10539974,  2.15018358,  5.62942674,  3.26078901,\n",
       "        1.64002634,  3.11145199,  2.57997471,  3.20164279,  1.89327878,\n",
       "        2.41946877,  4.2258785 ,  1.78686984,  1.6305497 ,  2.18197029,\n",
       "        8.74545313,  4.72984592,  8.82937757,  2.48758492,  2.00759143])"
      ]
     },
     "execution_count": 75,
     "metadata": {},
     "output_type": "execute_result"
    }
   ],
   "source": [
    "best_model_adjust.predict(X_val_poly_scaled)"
   ]
  },
  {
   "cell_type": "code",
   "execution_count": 76,
   "metadata": {},
   "outputs": [
    {
     "data": {
      "text/plain": [
       "1.8963276167442276"
      ]
     },
     "execution_count": 76,
     "metadata": {},
     "output_type": "execute_result"
    }
   ],
   "source": [
    "mean_squared_error(y_val_predict, y_val)"
   ]
  },
  {
   "cell_type": "code",
   "execution_count": 65,
   "metadata": {},
   "outputs": [
    {
     "data": {
      "text/plain": [
       "1.351311051245387"
      ]
     },
     "execution_count": 65,
     "metadata": {},
     "output_type": "execute_result"
    }
   ],
   "source": [
    "minimum_val_error"
   ]
  },
  {
   "cell_type": "code",
   "execution_count": 69,
   "metadata": {},
   "outputs": [
    {
     "data": {
      "text/plain": [
       "1.8963276167442276"
      ]
     },
     "execution_count": 69,
     "metadata": {},
     "output_type": "execute_result"
    }
   ],
   "source": [
    "val_error"
   ]
  },
  {
   "cell_type": "markdown",
   "metadata": {},
   "source": [
    "# Logistic Regression"
   ]
  },
  {
   "cell_type": "markdown",
   "metadata": {},
   "source": [
    "## Decision Boundaries"
   ]
  },
  {
   "cell_type": "code",
   "execution_count": 77,
   "metadata": {},
   "outputs": [],
   "source": [
    "from sklearn import datasets\n",
    "iris = datasets.load_iris()"
   ]
  },
  {
   "cell_type": "code",
   "execution_count": 78,
   "metadata": {},
   "outputs": [
    {
     "data": {
      "text/plain": [
       "['data', 'target', 'target_names', 'DESCR', 'feature_names']"
      ]
     },
     "execution_count": 78,
     "metadata": {},
     "output_type": "execute_result"
    }
   ],
   "source": [
    "list(iris.keys())"
   ]
  },
  {
   "cell_type": "code",
   "execution_count": 79,
   "metadata": {},
   "outputs": [],
   "source": [
    "X = iris['data'][:,3:] #petal width\n",
    "y = (iris['target'] ==2).astype(np.int) # 1 if Iris-Virginica, else 0"
   ]
  },
  {
   "cell_type": "code",
   "execution_count": 80,
   "metadata": {},
   "outputs": [
    {
     "data": {
      "text/plain": [
       "LogisticRegression(C=1.0, class_weight=None, dual=False, fit_intercept=True,\n",
       "          intercept_scaling=1, max_iter=100, multi_class='ovr', n_jobs=1,\n",
       "          penalty='l2', random_state=None, solver='liblinear', tol=0.0001,\n",
       "          verbose=0, warm_start=False)"
      ]
     },
     "execution_count": 80,
     "metadata": {},
     "output_type": "execute_result"
    }
   ],
   "source": [
    "#using logistic regression\n",
    "from sklearn.linear_model import LogisticRegression\n",
    "log_reg = LogisticRegression()\n",
    "log_reg.fit(X,y)"
   ]
  },
  {
   "cell_type": "code",
   "execution_count": 81,
   "metadata": {},
   "outputs": [],
   "source": [
    "#look at the model's estimated probabilities for flowers with petal widths varying from 0 to 3 cm\n",
    "X_new = np.linspace(0,3,1000).reshape(-1,1)"
   ]
  },
  {
   "cell_type": "code",
   "execution_count": 82,
   "metadata": {},
   "outputs": [
    {
     "data": {
      "text/plain": [
       "array([[ 0.        ],\n",
       "       [ 0.003003  ],\n",
       "       [ 0.00600601],\n",
       "       [ 0.00900901],\n",
       "       [ 0.01201201],\n",
       "       [ 0.01501502],\n",
       "       [ 0.01801802],\n",
       "       [ 0.02102102],\n",
       "       [ 0.02402402],\n",
       "       [ 0.02702703],\n",
       "       [ 0.03003003],\n",
       "       [ 0.03303303],\n",
       "       [ 0.03603604],\n",
       "       [ 0.03903904],\n",
       "       [ 0.04204204],\n",
       "       [ 0.04504505],\n",
       "       [ 0.04804805],\n",
       "       [ 0.05105105],\n",
       "       [ 0.05405405],\n",
       "       [ 0.05705706],\n",
       "       [ 0.06006006],\n",
       "       [ 0.06306306],\n",
       "       [ 0.06606607],\n",
       "       [ 0.06906907],\n",
       "       [ 0.07207207],\n",
       "       [ 0.07507508],\n",
       "       [ 0.07807808],\n",
       "       [ 0.08108108],\n",
       "       [ 0.08408408],\n",
       "       [ 0.08708709],\n",
       "       [ 0.09009009],\n",
       "       [ 0.09309309],\n",
       "       [ 0.0960961 ],\n",
       "       [ 0.0990991 ],\n",
       "       [ 0.1021021 ],\n",
       "       [ 0.10510511],\n",
       "       [ 0.10810811],\n",
       "       [ 0.11111111],\n",
       "       [ 0.11411411],\n",
       "       [ 0.11711712],\n",
       "       [ 0.12012012],\n",
       "       [ 0.12312312],\n",
       "       [ 0.12612613],\n",
       "       [ 0.12912913],\n",
       "       [ 0.13213213],\n",
       "       [ 0.13513514],\n",
       "       [ 0.13813814],\n",
       "       [ 0.14114114],\n",
       "       [ 0.14414414],\n",
       "       [ 0.14714715],\n",
       "       [ 0.15015015],\n",
       "       [ 0.15315315],\n",
       "       [ 0.15615616],\n",
       "       [ 0.15915916],\n",
       "       [ 0.16216216],\n",
       "       [ 0.16516517],\n",
       "       [ 0.16816817],\n",
       "       [ 0.17117117],\n",
       "       [ 0.17417417],\n",
       "       [ 0.17717718],\n",
       "       [ 0.18018018],\n",
       "       [ 0.18318318],\n",
       "       [ 0.18618619],\n",
       "       [ 0.18918919],\n",
       "       [ 0.19219219],\n",
       "       [ 0.1951952 ],\n",
       "       [ 0.1981982 ],\n",
       "       [ 0.2012012 ],\n",
       "       [ 0.2042042 ],\n",
       "       [ 0.20720721],\n",
       "       [ 0.21021021],\n",
       "       [ 0.21321321],\n",
       "       [ 0.21621622],\n",
       "       [ 0.21921922],\n",
       "       [ 0.22222222],\n",
       "       [ 0.22522523],\n",
       "       [ 0.22822823],\n",
       "       [ 0.23123123],\n",
       "       [ 0.23423423],\n",
       "       [ 0.23723724],\n",
       "       [ 0.24024024],\n",
       "       [ 0.24324324],\n",
       "       [ 0.24624625],\n",
       "       [ 0.24924925],\n",
       "       [ 0.25225225],\n",
       "       [ 0.25525526],\n",
       "       [ 0.25825826],\n",
       "       [ 0.26126126],\n",
       "       [ 0.26426426],\n",
       "       [ 0.26726727],\n",
       "       [ 0.27027027],\n",
       "       [ 0.27327327],\n",
       "       [ 0.27627628],\n",
       "       [ 0.27927928],\n",
       "       [ 0.28228228],\n",
       "       [ 0.28528529],\n",
       "       [ 0.28828829],\n",
       "       [ 0.29129129],\n",
       "       [ 0.29429429],\n",
       "       [ 0.2972973 ],\n",
       "       [ 0.3003003 ],\n",
       "       [ 0.3033033 ],\n",
       "       [ 0.30630631],\n",
       "       [ 0.30930931],\n",
       "       [ 0.31231231],\n",
       "       [ 0.31531532],\n",
       "       [ 0.31831832],\n",
       "       [ 0.32132132],\n",
       "       [ 0.32432432],\n",
       "       [ 0.32732733],\n",
       "       [ 0.33033033],\n",
       "       [ 0.33333333],\n",
       "       [ 0.33633634],\n",
       "       [ 0.33933934],\n",
       "       [ 0.34234234],\n",
       "       [ 0.34534535],\n",
       "       [ 0.34834835],\n",
       "       [ 0.35135135],\n",
       "       [ 0.35435435],\n",
       "       [ 0.35735736],\n",
       "       [ 0.36036036],\n",
       "       [ 0.36336336],\n",
       "       [ 0.36636637],\n",
       "       [ 0.36936937],\n",
       "       [ 0.37237237],\n",
       "       [ 0.37537538],\n",
       "       [ 0.37837838],\n",
       "       [ 0.38138138],\n",
       "       [ 0.38438438],\n",
       "       [ 0.38738739],\n",
       "       [ 0.39039039],\n",
       "       [ 0.39339339],\n",
       "       [ 0.3963964 ],\n",
       "       [ 0.3993994 ],\n",
       "       [ 0.4024024 ],\n",
       "       [ 0.40540541],\n",
       "       [ 0.40840841],\n",
       "       [ 0.41141141],\n",
       "       [ 0.41441441],\n",
       "       [ 0.41741742],\n",
       "       [ 0.42042042],\n",
       "       [ 0.42342342],\n",
       "       [ 0.42642643],\n",
       "       [ 0.42942943],\n",
       "       [ 0.43243243],\n",
       "       [ 0.43543544],\n",
       "       [ 0.43843844],\n",
       "       [ 0.44144144],\n",
       "       [ 0.44444444],\n",
       "       [ 0.44744745],\n",
       "       [ 0.45045045],\n",
       "       [ 0.45345345],\n",
       "       [ 0.45645646],\n",
       "       [ 0.45945946],\n",
       "       [ 0.46246246],\n",
       "       [ 0.46546547],\n",
       "       [ 0.46846847],\n",
       "       [ 0.47147147],\n",
       "       [ 0.47447447],\n",
       "       [ 0.47747748],\n",
       "       [ 0.48048048],\n",
       "       [ 0.48348348],\n",
       "       [ 0.48648649],\n",
       "       [ 0.48948949],\n",
       "       [ 0.49249249],\n",
       "       [ 0.4954955 ],\n",
       "       [ 0.4984985 ],\n",
       "       [ 0.5015015 ],\n",
       "       [ 0.5045045 ],\n",
       "       [ 0.50750751],\n",
       "       [ 0.51051051],\n",
       "       [ 0.51351351],\n",
       "       [ 0.51651652],\n",
       "       [ 0.51951952],\n",
       "       [ 0.52252252],\n",
       "       [ 0.52552553],\n",
       "       [ 0.52852853],\n",
       "       [ 0.53153153],\n",
       "       [ 0.53453453],\n",
       "       [ 0.53753754],\n",
       "       [ 0.54054054],\n",
       "       [ 0.54354354],\n",
       "       [ 0.54654655],\n",
       "       [ 0.54954955],\n",
       "       [ 0.55255255],\n",
       "       [ 0.55555556],\n",
       "       [ 0.55855856],\n",
       "       [ 0.56156156],\n",
       "       [ 0.56456456],\n",
       "       [ 0.56756757],\n",
       "       [ 0.57057057],\n",
       "       [ 0.57357357],\n",
       "       [ 0.57657658],\n",
       "       [ 0.57957958],\n",
       "       [ 0.58258258],\n",
       "       [ 0.58558559],\n",
       "       [ 0.58858859],\n",
       "       [ 0.59159159],\n",
       "       [ 0.59459459],\n",
       "       [ 0.5975976 ],\n",
       "       [ 0.6006006 ],\n",
       "       [ 0.6036036 ],\n",
       "       [ 0.60660661],\n",
       "       [ 0.60960961],\n",
       "       [ 0.61261261],\n",
       "       [ 0.61561562],\n",
       "       [ 0.61861862],\n",
       "       [ 0.62162162],\n",
       "       [ 0.62462462],\n",
       "       [ 0.62762763],\n",
       "       [ 0.63063063],\n",
       "       [ 0.63363363],\n",
       "       [ 0.63663664],\n",
       "       [ 0.63963964],\n",
       "       [ 0.64264264],\n",
       "       [ 0.64564565],\n",
       "       [ 0.64864865],\n",
       "       [ 0.65165165],\n",
       "       [ 0.65465465],\n",
       "       [ 0.65765766],\n",
       "       [ 0.66066066],\n",
       "       [ 0.66366366],\n",
       "       [ 0.66666667],\n",
       "       [ 0.66966967],\n",
       "       [ 0.67267267],\n",
       "       [ 0.67567568],\n",
       "       [ 0.67867868],\n",
       "       [ 0.68168168],\n",
       "       [ 0.68468468],\n",
       "       [ 0.68768769],\n",
       "       [ 0.69069069],\n",
       "       [ 0.69369369],\n",
       "       [ 0.6966967 ],\n",
       "       [ 0.6996997 ],\n",
       "       [ 0.7027027 ],\n",
       "       [ 0.70570571],\n",
       "       [ 0.70870871],\n",
       "       [ 0.71171171],\n",
       "       [ 0.71471471],\n",
       "       [ 0.71771772],\n",
       "       [ 0.72072072],\n",
       "       [ 0.72372372],\n",
       "       [ 0.72672673],\n",
       "       [ 0.72972973],\n",
       "       [ 0.73273273],\n",
       "       [ 0.73573574],\n",
       "       [ 0.73873874],\n",
       "       [ 0.74174174],\n",
       "       [ 0.74474474],\n",
       "       [ 0.74774775],\n",
       "       [ 0.75075075],\n",
       "       [ 0.75375375],\n",
       "       [ 0.75675676],\n",
       "       [ 0.75975976],\n",
       "       [ 0.76276276],\n",
       "       [ 0.76576577],\n",
       "       [ 0.76876877],\n",
       "       [ 0.77177177],\n",
       "       [ 0.77477477],\n",
       "       [ 0.77777778],\n",
       "       [ 0.78078078],\n",
       "       [ 0.78378378],\n",
       "       [ 0.78678679],\n",
       "       [ 0.78978979],\n",
       "       [ 0.79279279],\n",
       "       [ 0.7957958 ],\n",
       "       [ 0.7987988 ],\n",
       "       [ 0.8018018 ],\n",
       "       [ 0.8048048 ],\n",
       "       [ 0.80780781],\n",
       "       [ 0.81081081],\n",
       "       [ 0.81381381],\n",
       "       [ 0.81681682],\n",
       "       [ 0.81981982],\n",
       "       [ 0.82282282],\n",
       "       [ 0.82582583],\n",
       "       [ 0.82882883],\n",
       "       [ 0.83183183],\n",
       "       [ 0.83483483],\n",
       "       [ 0.83783784],\n",
       "       [ 0.84084084],\n",
       "       [ 0.84384384],\n",
       "       [ 0.84684685],\n",
       "       [ 0.84984985],\n",
       "       [ 0.85285285],\n",
       "       [ 0.85585586],\n",
       "       [ 0.85885886],\n",
       "       [ 0.86186186],\n",
       "       [ 0.86486486],\n",
       "       [ 0.86786787],\n",
       "       [ 0.87087087],\n",
       "       [ 0.87387387],\n",
       "       [ 0.87687688],\n",
       "       [ 0.87987988],\n",
       "       [ 0.88288288],\n",
       "       [ 0.88588589],\n",
       "       [ 0.88888889],\n",
       "       [ 0.89189189],\n",
       "       [ 0.89489489],\n",
       "       [ 0.8978979 ],\n",
       "       [ 0.9009009 ],\n",
       "       [ 0.9039039 ],\n",
       "       [ 0.90690691],\n",
       "       [ 0.90990991],\n",
       "       [ 0.91291291],\n",
       "       [ 0.91591592],\n",
       "       [ 0.91891892],\n",
       "       [ 0.92192192],\n",
       "       [ 0.92492492],\n",
       "       [ 0.92792793],\n",
       "       [ 0.93093093],\n",
       "       [ 0.93393393],\n",
       "       [ 0.93693694],\n",
       "       [ 0.93993994],\n",
       "       [ 0.94294294],\n",
       "       [ 0.94594595],\n",
       "       [ 0.94894895],\n",
       "       [ 0.95195195],\n",
       "       [ 0.95495495],\n",
       "       [ 0.95795796],\n",
       "       [ 0.96096096],\n",
       "       [ 0.96396396],\n",
       "       [ 0.96696697],\n",
       "       [ 0.96996997],\n",
       "       [ 0.97297297],\n",
       "       [ 0.97597598],\n",
       "       [ 0.97897898],\n",
       "       [ 0.98198198],\n",
       "       [ 0.98498498],\n",
       "       [ 0.98798799],\n",
       "       [ 0.99099099],\n",
       "       [ 0.99399399],\n",
       "       [ 0.996997  ],\n",
       "       [ 1.        ],\n",
       "       [ 1.003003  ],\n",
       "       [ 1.00600601],\n",
       "       [ 1.00900901],\n",
       "       [ 1.01201201],\n",
       "       [ 1.01501502],\n",
       "       [ 1.01801802],\n",
       "       [ 1.02102102],\n",
       "       [ 1.02402402],\n",
       "       [ 1.02702703],\n",
       "       [ 1.03003003],\n",
       "       [ 1.03303303],\n",
       "       [ 1.03603604],\n",
       "       [ 1.03903904],\n",
       "       [ 1.04204204],\n",
       "       [ 1.04504505],\n",
       "       [ 1.04804805],\n",
       "       [ 1.05105105],\n",
       "       [ 1.05405405],\n",
       "       [ 1.05705706],\n",
       "       [ 1.06006006],\n",
       "       [ 1.06306306],\n",
       "       [ 1.06606607],\n",
       "       [ 1.06906907],\n",
       "       [ 1.07207207],\n",
       "       [ 1.07507508],\n",
       "       [ 1.07807808],\n",
       "       [ 1.08108108],\n",
       "       [ 1.08408408],\n",
       "       [ 1.08708709],\n",
       "       [ 1.09009009],\n",
       "       [ 1.09309309],\n",
       "       [ 1.0960961 ],\n",
       "       [ 1.0990991 ],\n",
       "       [ 1.1021021 ],\n",
       "       [ 1.10510511],\n",
       "       [ 1.10810811],\n",
       "       [ 1.11111111],\n",
       "       [ 1.11411411],\n",
       "       [ 1.11711712],\n",
       "       [ 1.12012012],\n",
       "       [ 1.12312312],\n",
       "       [ 1.12612613],\n",
       "       [ 1.12912913],\n",
       "       [ 1.13213213],\n",
       "       [ 1.13513514],\n",
       "       [ 1.13813814],\n",
       "       [ 1.14114114],\n",
       "       [ 1.14414414],\n",
       "       [ 1.14714715],\n",
       "       [ 1.15015015],\n",
       "       [ 1.15315315],\n",
       "       [ 1.15615616],\n",
       "       [ 1.15915916],\n",
       "       [ 1.16216216],\n",
       "       [ 1.16516517],\n",
       "       [ 1.16816817],\n",
       "       [ 1.17117117],\n",
       "       [ 1.17417417],\n",
       "       [ 1.17717718],\n",
       "       [ 1.18018018],\n",
       "       [ 1.18318318],\n",
       "       [ 1.18618619],\n",
       "       [ 1.18918919],\n",
       "       [ 1.19219219],\n",
       "       [ 1.1951952 ],\n",
       "       [ 1.1981982 ],\n",
       "       [ 1.2012012 ],\n",
       "       [ 1.2042042 ],\n",
       "       [ 1.20720721],\n",
       "       [ 1.21021021],\n",
       "       [ 1.21321321],\n",
       "       [ 1.21621622],\n",
       "       [ 1.21921922],\n",
       "       [ 1.22222222],\n",
       "       [ 1.22522523],\n",
       "       [ 1.22822823],\n",
       "       [ 1.23123123],\n",
       "       [ 1.23423423],\n",
       "       [ 1.23723724],\n",
       "       [ 1.24024024],\n",
       "       [ 1.24324324],\n",
       "       [ 1.24624625],\n",
       "       [ 1.24924925],\n",
       "       [ 1.25225225],\n",
       "       [ 1.25525526],\n",
       "       [ 1.25825826],\n",
       "       [ 1.26126126],\n",
       "       [ 1.26426426],\n",
       "       [ 1.26726727],\n",
       "       [ 1.27027027],\n",
       "       [ 1.27327327],\n",
       "       [ 1.27627628],\n",
       "       [ 1.27927928],\n",
       "       [ 1.28228228],\n",
       "       [ 1.28528529],\n",
       "       [ 1.28828829],\n",
       "       [ 1.29129129],\n",
       "       [ 1.29429429],\n",
       "       [ 1.2972973 ],\n",
       "       [ 1.3003003 ],\n",
       "       [ 1.3033033 ],\n",
       "       [ 1.30630631],\n",
       "       [ 1.30930931],\n",
       "       [ 1.31231231],\n",
       "       [ 1.31531532],\n",
       "       [ 1.31831832],\n",
       "       [ 1.32132132],\n",
       "       [ 1.32432432],\n",
       "       [ 1.32732733],\n",
       "       [ 1.33033033],\n",
       "       [ 1.33333333],\n",
       "       [ 1.33633634],\n",
       "       [ 1.33933934],\n",
       "       [ 1.34234234],\n",
       "       [ 1.34534535],\n",
       "       [ 1.34834835],\n",
       "       [ 1.35135135],\n",
       "       [ 1.35435435],\n",
       "       [ 1.35735736],\n",
       "       [ 1.36036036],\n",
       "       [ 1.36336336],\n",
       "       [ 1.36636637],\n",
       "       [ 1.36936937],\n",
       "       [ 1.37237237],\n",
       "       [ 1.37537538],\n",
       "       [ 1.37837838],\n",
       "       [ 1.38138138],\n",
       "       [ 1.38438438],\n",
       "       [ 1.38738739],\n",
       "       [ 1.39039039],\n",
       "       [ 1.39339339],\n",
       "       [ 1.3963964 ],\n",
       "       [ 1.3993994 ],\n",
       "       [ 1.4024024 ],\n",
       "       [ 1.40540541],\n",
       "       [ 1.40840841],\n",
       "       [ 1.41141141],\n",
       "       [ 1.41441441],\n",
       "       [ 1.41741742],\n",
       "       [ 1.42042042],\n",
       "       [ 1.42342342],\n",
       "       [ 1.42642643],\n",
       "       [ 1.42942943],\n",
       "       [ 1.43243243],\n",
       "       [ 1.43543544],\n",
       "       [ 1.43843844],\n",
       "       [ 1.44144144],\n",
       "       [ 1.44444444],\n",
       "       [ 1.44744745],\n",
       "       [ 1.45045045],\n",
       "       [ 1.45345345],\n",
       "       [ 1.45645646],\n",
       "       [ 1.45945946],\n",
       "       [ 1.46246246],\n",
       "       [ 1.46546547],\n",
       "       [ 1.46846847],\n",
       "       [ 1.47147147],\n",
       "       [ 1.47447447],\n",
       "       [ 1.47747748],\n",
       "       [ 1.48048048],\n",
       "       [ 1.48348348],\n",
       "       [ 1.48648649],\n",
       "       [ 1.48948949],\n",
       "       [ 1.49249249],\n",
       "       [ 1.4954955 ],\n",
       "       [ 1.4984985 ],\n",
       "       [ 1.5015015 ],\n",
       "       [ 1.5045045 ],\n",
       "       [ 1.50750751],\n",
       "       [ 1.51051051],\n",
       "       [ 1.51351351],\n",
       "       [ 1.51651652],\n",
       "       [ 1.51951952],\n",
       "       [ 1.52252252],\n",
       "       [ 1.52552553],\n",
       "       [ 1.52852853],\n",
       "       [ 1.53153153],\n",
       "       [ 1.53453453],\n",
       "       [ 1.53753754],\n",
       "       [ 1.54054054],\n",
       "       [ 1.54354354],\n",
       "       [ 1.54654655],\n",
       "       [ 1.54954955],\n",
       "       [ 1.55255255],\n",
       "       [ 1.55555556],\n",
       "       [ 1.55855856],\n",
       "       [ 1.56156156],\n",
       "       [ 1.56456456],\n",
       "       [ 1.56756757],\n",
       "       [ 1.57057057],\n",
       "       [ 1.57357357],\n",
       "       [ 1.57657658],\n",
       "       [ 1.57957958],\n",
       "       [ 1.58258258],\n",
       "       [ 1.58558559],\n",
       "       [ 1.58858859],\n",
       "       [ 1.59159159],\n",
       "       [ 1.59459459],\n",
       "       [ 1.5975976 ],\n",
       "       [ 1.6006006 ],\n",
       "       [ 1.6036036 ],\n",
       "       [ 1.60660661],\n",
       "       [ 1.60960961],\n",
       "       [ 1.61261261],\n",
       "       [ 1.61561562],\n",
       "       [ 1.61861862],\n",
       "       [ 1.62162162],\n",
       "       [ 1.62462462],\n",
       "       [ 1.62762763],\n",
       "       [ 1.63063063],\n",
       "       [ 1.63363363],\n",
       "       [ 1.63663664],\n",
       "       [ 1.63963964],\n",
       "       [ 1.64264264],\n",
       "       [ 1.64564565],\n",
       "       [ 1.64864865],\n",
       "       [ 1.65165165],\n",
       "       [ 1.65465465],\n",
       "       [ 1.65765766],\n",
       "       [ 1.66066066],\n",
       "       [ 1.66366366],\n",
       "       [ 1.66666667],\n",
       "       [ 1.66966967],\n",
       "       [ 1.67267267],\n",
       "       [ 1.67567568],\n",
       "       [ 1.67867868],\n",
       "       [ 1.68168168],\n",
       "       [ 1.68468468],\n",
       "       [ 1.68768769],\n",
       "       [ 1.69069069],\n",
       "       [ 1.69369369],\n",
       "       [ 1.6966967 ],\n",
       "       [ 1.6996997 ],\n",
       "       [ 1.7027027 ],\n",
       "       [ 1.70570571],\n",
       "       [ 1.70870871],\n",
       "       [ 1.71171171],\n",
       "       [ 1.71471471],\n",
       "       [ 1.71771772],\n",
       "       [ 1.72072072],\n",
       "       [ 1.72372372],\n",
       "       [ 1.72672673],\n",
       "       [ 1.72972973],\n",
       "       [ 1.73273273],\n",
       "       [ 1.73573574],\n",
       "       [ 1.73873874],\n",
       "       [ 1.74174174],\n",
       "       [ 1.74474474],\n",
       "       [ 1.74774775],\n",
       "       [ 1.75075075],\n",
       "       [ 1.75375375],\n",
       "       [ 1.75675676],\n",
       "       [ 1.75975976],\n",
       "       [ 1.76276276],\n",
       "       [ 1.76576577],\n",
       "       [ 1.76876877],\n",
       "       [ 1.77177177],\n",
       "       [ 1.77477477],\n",
       "       [ 1.77777778],\n",
       "       [ 1.78078078],\n",
       "       [ 1.78378378],\n",
       "       [ 1.78678679],\n",
       "       [ 1.78978979],\n",
       "       [ 1.79279279],\n",
       "       [ 1.7957958 ],\n",
       "       [ 1.7987988 ],\n",
       "       [ 1.8018018 ],\n",
       "       [ 1.8048048 ],\n",
       "       [ 1.80780781],\n",
       "       [ 1.81081081],\n",
       "       [ 1.81381381],\n",
       "       [ 1.81681682],\n",
       "       [ 1.81981982],\n",
       "       [ 1.82282282],\n",
       "       [ 1.82582583],\n",
       "       [ 1.82882883],\n",
       "       [ 1.83183183],\n",
       "       [ 1.83483483],\n",
       "       [ 1.83783784],\n",
       "       [ 1.84084084],\n",
       "       [ 1.84384384],\n",
       "       [ 1.84684685],\n",
       "       [ 1.84984985],\n",
       "       [ 1.85285285],\n",
       "       [ 1.85585586],\n",
       "       [ 1.85885886],\n",
       "       [ 1.86186186],\n",
       "       [ 1.86486486],\n",
       "       [ 1.86786787],\n",
       "       [ 1.87087087],\n",
       "       [ 1.87387387],\n",
       "       [ 1.87687688],\n",
       "       [ 1.87987988],\n",
       "       [ 1.88288288],\n",
       "       [ 1.88588589],\n",
       "       [ 1.88888889],\n",
       "       [ 1.89189189],\n",
       "       [ 1.89489489],\n",
       "       [ 1.8978979 ],\n",
       "       [ 1.9009009 ],\n",
       "       [ 1.9039039 ],\n",
       "       [ 1.90690691],\n",
       "       [ 1.90990991],\n",
       "       [ 1.91291291],\n",
       "       [ 1.91591592],\n",
       "       [ 1.91891892],\n",
       "       [ 1.92192192],\n",
       "       [ 1.92492492],\n",
       "       [ 1.92792793],\n",
       "       [ 1.93093093],\n",
       "       [ 1.93393393],\n",
       "       [ 1.93693694],\n",
       "       [ 1.93993994],\n",
       "       [ 1.94294294],\n",
       "       [ 1.94594595],\n",
       "       [ 1.94894895],\n",
       "       [ 1.95195195],\n",
       "       [ 1.95495495],\n",
       "       [ 1.95795796],\n",
       "       [ 1.96096096],\n",
       "       [ 1.96396396],\n",
       "       [ 1.96696697],\n",
       "       [ 1.96996997],\n",
       "       [ 1.97297297],\n",
       "       [ 1.97597598],\n",
       "       [ 1.97897898],\n",
       "       [ 1.98198198],\n",
       "       [ 1.98498498],\n",
       "       [ 1.98798799],\n",
       "       [ 1.99099099],\n",
       "       [ 1.99399399],\n",
       "       [ 1.996997  ],\n",
       "       [ 2.        ],\n",
       "       [ 2.003003  ],\n",
       "       [ 2.00600601],\n",
       "       [ 2.00900901],\n",
       "       [ 2.01201201],\n",
       "       [ 2.01501502],\n",
       "       [ 2.01801802],\n",
       "       [ 2.02102102],\n",
       "       [ 2.02402402],\n",
       "       [ 2.02702703],\n",
       "       [ 2.03003003],\n",
       "       [ 2.03303303],\n",
       "       [ 2.03603604],\n",
       "       [ 2.03903904],\n",
       "       [ 2.04204204],\n",
       "       [ 2.04504505],\n",
       "       [ 2.04804805],\n",
       "       [ 2.05105105],\n",
       "       [ 2.05405405],\n",
       "       [ 2.05705706],\n",
       "       [ 2.06006006],\n",
       "       [ 2.06306306],\n",
       "       [ 2.06606607],\n",
       "       [ 2.06906907],\n",
       "       [ 2.07207207],\n",
       "       [ 2.07507508],\n",
       "       [ 2.07807808],\n",
       "       [ 2.08108108],\n",
       "       [ 2.08408408],\n",
       "       [ 2.08708709],\n",
       "       [ 2.09009009],\n",
       "       [ 2.09309309],\n",
       "       [ 2.0960961 ],\n",
       "       [ 2.0990991 ],\n",
       "       [ 2.1021021 ],\n",
       "       [ 2.10510511],\n",
       "       [ 2.10810811],\n",
       "       [ 2.11111111],\n",
       "       [ 2.11411411],\n",
       "       [ 2.11711712],\n",
       "       [ 2.12012012],\n",
       "       [ 2.12312312],\n",
       "       [ 2.12612613],\n",
       "       [ 2.12912913],\n",
       "       [ 2.13213213],\n",
       "       [ 2.13513514],\n",
       "       [ 2.13813814],\n",
       "       [ 2.14114114],\n",
       "       [ 2.14414414],\n",
       "       [ 2.14714715],\n",
       "       [ 2.15015015],\n",
       "       [ 2.15315315],\n",
       "       [ 2.15615616],\n",
       "       [ 2.15915916],\n",
       "       [ 2.16216216],\n",
       "       [ 2.16516517],\n",
       "       [ 2.16816817],\n",
       "       [ 2.17117117],\n",
       "       [ 2.17417417],\n",
       "       [ 2.17717718],\n",
       "       [ 2.18018018],\n",
       "       [ 2.18318318],\n",
       "       [ 2.18618619],\n",
       "       [ 2.18918919],\n",
       "       [ 2.19219219],\n",
       "       [ 2.1951952 ],\n",
       "       [ 2.1981982 ],\n",
       "       [ 2.2012012 ],\n",
       "       [ 2.2042042 ],\n",
       "       [ 2.20720721],\n",
       "       [ 2.21021021],\n",
       "       [ 2.21321321],\n",
       "       [ 2.21621622],\n",
       "       [ 2.21921922],\n",
       "       [ 2.22222222],\n",
       "       [ 2.22522523],\n",
       "       [ 2.22822823],\n",
       "       [ 2.23123123],\n",
       "       [ 2.23423423],\n",
       "       [ 2.23723724],\n",
       "       [ 2.24024024],\n",
       "       [ 2.24324324],\n",
       "       [ 2.24624625],\n",
       "       [ 2.24924925],\n",
       "       [ 2.25225225],\n",
       "       [ 2.25525526],\n",
       "       [ 2.25825826],\n",
       "       [ 2.26126126],\n",
       "       [ 2.26426426],\n",
       "       [ 2.26726727],\n",
       "       [ 2.27027027],\n",
       "       [ 2.27327327],\n",
       "       [ 2.27627628],\n",
       "       [ 2.27927928],\n",
       "       [ 2.28228228],\n",
       "       [ 2.28528529],\n",
       "       [ 2.28828829],\n",
       "       [ 2.29129129],\n",
       "       [ 2.29429429],\n",
       "       [ 2.2972973 ],\n",
       "       [ 2.3003003 ],\n",
       "       [ 2.3033033 ],\n",
       "       [ 2.30630631],\n",
       "       [ 2.30930931],\n",
       "       [ 2.31231231],\n",
       "       [ 2.31531532],\n",
       "       [ 2.31831832],\n",
       "       [ 2.32132132],\n",
       "       [ 2.32432432],\n",
       "       [ 2.32732733],\n",
       "       [ 2.33033033],\n",
       "       [ 2.33333333],\n",
       "       [ 2.33633634],\n",
       "       [ 2.33933934],\n",
       "       [ 2.34234234],\n",
       "       [ 2.34534535],\n",
       "       [ 2.34834835],\n",
       "       [ 2.35135135],\n",
       "       [ 2.35435435],\n",
       "       [ 2.35735736],\n",
       "       [ 2.36036036],\n",
       "       [ 2.36336336],\n",
       "       [ 2.36636637],\n",
       "       [ 2.36936937],\n",
       "       [ 2.37237237],\n",
       "       [ 2.37537538],\n",
       "       [ 2.37837838],\n",
       "       [ 2.38138138],\n",
       "       [ 2.38438438],\n",
       "       [ 2.38738739],\n",
       "       [ 2.39039039],\n",
       "       [ 2.39339339],\n",
       "       [ 2.3963964 ],\n",
       "       [ 2.3993994 ],\n",
       "       [ 2.4024024 ],\n",
       "       [ 2.40540541],\n",
       "       [ 2.40840841],\n",
       "       [ 2.41141141],\n",
       "       [ 2.41441441],\n",
       "       [ 2.41741742],\n",
       "       [ 2.42042042],\n",
       "       [ 2.42342342],\n",
       "       [ 2.42642643],\n",
       "       [ 2.42942943],\n",
       "       [ 2.43243243],\n",
       "       [ 2.43543544],\n",
       "       [ 2.43843844],\n",
       "       [ 2.44144144],\n",
       "       [ 2.44444444],\n",
       "       [ 2.44744745],\n",
       "       [ 2.45045045],\n",
       "       [ 2.45345345],\n",
       "       [ 2.45645646],\n",
       "       [ 2.45945946],\n",
       "       [ 2.46246246],\n",
       "       [ 2.46546547],\n",
       "       [ 2.46846847],\n",
       "       [ 2.47147147],\n",
       "       [ 2.47447447],\n",
       "       [ 2.47747748],\n",
       "       [ 2.48048048],\n",
       "       [ 2.48348348],\n",
       "       [ 2.48648649],\n",
       "       [ 2.48948949],\n",
       "       [ 2.49249249],\n",
       "       [ 2.4954955 ],\n",
       "       [ 2.4984985 ],\n",
       "       [ 2.5015015 ],\n",
       "       [ 2.5045045 ],\n",
       "       [ 2.50750751],\n",
       "       [ 2.51051051],\n",
       "       [ 2.51351351],\n",
       "       [ 2.51651652],\n",
       "       [ 2.51951952],\n",
       "       [ 2.52252252],\n",
       "       [ 2.52552553],\n",
       "       [ 2.52852853],\n",
       "       [ 2.53153153],\n",
       "       [ 2.53453453],\n",
       "       [ 2.53753754],\n",
       "       [ 2.54054054],\n",
       "       [ 2.54354354],\n",
       "       [ 2.54654655],\n",
       "       [ 2.54954955],\n",
       "       [ 2.55255255],\n",
       "       [ 2.55555556],\n",
       "       [ 2.55855856],\n",
       "       [ 2.56156156],\n",
       "       [ 2.56456456],\n",
       "       [ 2.56756757],\n",
       "       [ 2.57057057],\n",
       "       [ 2.57357357],\n",
       "       [ 2.57657658],\n",
       "       [ 2.57957958],\n",
       "       [ 2.58258258],\n",
       "       [ 2.58558559],\n",
       "       [ 2.58858859],\n",
       "       [ 2.59159159],\n",
       "       [ 2.59459459],\n",
       "       [ 2.5975976 ],\n",
       "       [ 2.6006006 ],\n",
       "       [ 2.6036036 ],\n",
       "       [ 2.60660661],\n",
       "       [ 2.60960961],\n",
       "       [ 2.61261261],\n",
       "       [ 2.61561562],\n",
       "       [ 2.61861862],\n",
       "       [ 2.62162162],\n",
       "       [ 2.62462462],\n",
       "       [ 2.62762763],\n",
       "       [ 2.63063063],\n",
       "       [ 2.63363363],\n",
       "       [ 2.63663664],\n",
       "       [ 2.63963964],\n",
       "       [ 2.64264264],\n",
       "       [ 2.64564565],\n",
       "       [ 2.64864865],\n",
       "       [ 2.65165165],\n",
       "       [ 2.65465465],\n",
       "       [ 2.65765766],\n",
       "       [ 2.66066066],\n",
       "       [ 2.66366366],\n",
       "       [ 2.66666667],\n",
       "       [ 2.66966967],\n",
       "       [ 2.67267267],\n",
       "       [ 2.67567568],\n",
       "       [ 2.67867868],\n",
       "       [ 2.68168168],\n",
       "       [ 2.68468468],\n",
       "       [ 2.68768769],\n",
       "       [ 2.69069069],\n",
       "       [ 2.69369369],\n",
       "       [ 2.6966967 ],\n",
       "       [ 2.6996997 ],\n",
       "       [ 2.7027027 ],\n",
       "       [ 2.70570571],\n",
       "       [ 2.70870871],\n",
       "       [ 2.71171171],\n",
       "       [ 2.71471471],\n",
       "       [ 2.71771772],\n",
       "       [ 2.72072072],\n",
       "       [ 2.72372372],\n",
       "       [ 2.72672673],\n",
       "       [ 2.72972973],\n",
       "       [ 2.73273273],\n",
       "       [ 2.73573574],\n",
       "       [ 2.73873874],\n",
       "       [ 2.74174174],\n",
       "       [ 2.74474474],\n",
       "       [ 2.74774775],\n",
       "       [ 2.75075075],\n",
       "       [ 2.75375375],\n",
       "       [ 2.75675676],\n",
       "       [ 2.75975976],\n",
       "       [ 2.76276276],\n",
       "       [ 2.76576577],\n",
       "       [ 2.76876877],\n",
       "       [ 2.77177177],\n",
       "       [ 2.77477477],\n",
       "       [ 2.77777778],\n",
       "       [ 2.78078078],\n",
       "       [ 2.78378378],\n",
       "       [ 2.78678679],\n",
       "       [ 2.78978979],\n",
       "       [ 2.79279279],\n",
       "       [ 2.7957958 ],\n",
       "       [ 2.7987988 ],\n",
       "       [ 2.8018018 ],\n",
       "       [ 2.8048048 ],\n",
       "       [ 2.80780781],\n",
       "       [ 2.81081081],\n",
       "       [ 2.81381381],\n",
       "       [ 2.81681682],\n",
       "       [ 2.81981982],\n",
       "       [ 2.82282282],\n",
       "       [ 2.82582583],\n",
       "       [ 2.82882883],\n",
       "       [ 2.83183183],\n",
       "       [ 2.83483483],\n",
       "       [ 2.83783784],\n",
       "       [ 2.84084084],\n",
       "       [ 2.84384384],\n",
       "       [ 2.84684685],\n",
       "       [ 2.84984985],\n",
       "       [ 2.85285285],\n",
       "       [ 2.85585586],\n",
       "       [ 2.85885886],\n",
       "       [ 2.86186186],\n",
       "       [ 2.86486486],\n",
       "       [ 2.86786787],\n",
       "       [ 2.87087087],\n",
       "       [ 2.87387387],\n",
       "       [ 2.87687688],\n",
       "       [ 2.87987988],\n",
       "       [ 2.88288288],\n",
       "       [ 2.88588589],\n",
       "       [ 2.88888889],\n",
       "       [ 2.89189189],\n",
       "       [ 2.89489489],\n",
       "       [ 2.8978979 ],\n",
       "       [ 2.9009009 ],\n",
       "       [ 2.9039039 ],\n",
       "       [ 2.90690691],\n",
       "       [ 2.90990991],\n",
       "       [ 2.91291291],\n",
       "       [ 2.91591592],\n",
       "       [ 2.91891892],\n",
       "       [ 2.92192192],\n",
       "       [ 2.92492492],\n",
       "       [ 2.92792793],\n",
       "       [ 2.93093093],\n",
       "       [ 2.93393393],\n",
       "       [ 2.93693694],\n",
       "       [ 2.93993994],\n",
       "       [ 2.94294294],\n",
       "       [ 2.94594595],\n",
       "       [ 2.94894895],\n",
       "       [ 2.95195195],\n",
       "       [ 2.95495495],\n",
       "       [ 2.95795796],\n",
       "       [ 2.96096096],\n",
       "       [ 2.96396396],\n",
       "       [ 2.96696697],\n",
       "       [ 2.96996997],\n",
       "       [ 2.97297297],\n",
       "       [ 2.97597598],\n",
       "       [ 2.97897898],\n",
       "       [ 2.98198198],\n",
       "       [ 2.98498498],\n",
       "       [ 2.98798799],\n",
       "       [ 2.99099099],\n",
       "       [ 2.99399399],\n",
       "       [ 2.996997  ],\n",
       "       [ 3.        ]])"
      ]
     },
     "execution_count": 82,
     "metadata": {},
     "output_type": "execute_result"
    }
   ],
   "source": [
    "X_new"
   ]
  },
  {
   "cell_type": "code",
   "execution_count": 83,
   "metadata": {},
   "outputs": [],
   "source": [
    "y_proba  = log_reg.predict_proba(X_new)"
   ]
  },
  {
   "cell_type": "code",
   "execution_count": 88,
   "metadata": {},
   "outputs": [
    {
     "data": {
      "text/plain": [
       "<matplotlib.legend.Legend at 0x7fd023ec7ba8>"
      ]
     },
     "execution_count": 88,
     "metadata": {},
     "output_type": "execute_result"
    },
    {
     "data": {
      "image/png": "[encoded data removed]",
      "text/plain": [
       "<matplotlib.figure.Figure at 0x7fd0280ae0b8>"
      ]
     },
     "metadata": {},
     "output_type": "display_data"
    }
   ],
   "source": [
    "plt.plot(X_new,y_proba[:,1],'g-',label='Iris-Virginica')\n",
    "plt.plot(X_new,y_proba[:,0], 'b--',label='Not Iris-Virginica')\n",
    "plt.legend()"
   ]
  },
  {
   "cell_type": "markdown",
   "metadata": {},
   "source": [
    "## Softmax Regression"
   ]
  },
  {
   "cell_type": "code",
   "execution_count": null,
   "metadata": {},
   "outputs": [],
   "source": []
  }
 ],
 "metadata": {
  "kernelspec": {
   "display_name": "Python 3",
   "language": "python",
   "name": "python3"
  },
  "language_info": {
   "codemirror_mode": {
    "name": "ipython",
    "version": 3
   },
   "file_extension": ".py",
   "mimetype": "text/x-python",
   "name": "python",
   "nbconvert_exporter": "python",
   "pygments_lexer": "ipython3",
   "version": "3.6.4"
  },
  "toc": {
   "nav_menu": {},
   "number_sections": false,
   "sideBar": true,
   "skip_h1_title": false,
   "toc_cell": false,
   "toc_position": {},
   "toc_section_display": "block",
   "toc_window_display": false
  }
 },
 "nbformat": 4,
 "nbformat_minor": 2
}
